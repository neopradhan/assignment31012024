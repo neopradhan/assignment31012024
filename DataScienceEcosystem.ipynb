{
 "cells": [
  {
   "cell_type": "markdown",
   "id": "f4288e76-dd48-4b16-9460-1810082502d9",
   "metadata": {},
   "source": [
    "# Data Science Tools and Ecosystem"
   ]
  },
  {
   "cell_type": "markdown",
   "id": "80e0e371-b089-4ecc-91b1-51de2daf3712",
   "metadata": {
    "tags": []
   },
   "source": [
    "In this notebook, Data Science Tools and Ecosystem are summarized."
   ]
  },
  {
   "cell_type": "markdown",
   "id": "2dbc5c67-7601-4618-863f-c677b3104a56",
   "metadata": {},
   "source": [
    "Some of the popular languages that Data Scientists use are:"
   ]
  },
  {
   "cell_type": "markdown",
   "id": "d3283006-d453-44a8-a8e7-790dc0028a5f",
   "metadata": {},
   "source": [
    "1. Python\n",
    "2. Julia\n",
    "3. R"
   ]
  },
  {
   "cell_type": "markdown",
   "id": "ec03c117-254c-49d4-8509-325711fe4eba",
   "metadata": {},
   "source": [
    "Some of the commonly used libraries used by Data Scientists include:"
   ]
  },
  {
   "cell_type": "markdown",
   "id": "411756ba-923d-4960-99e2-0862d687806b",
   "metadata": {},
   "source": [
    "1. Tensorflow\n",
    "2. Numpy\n",
    "3. Panda\n",
    "4. Keras"
   ]
  },
  {
   "cell_type": "markdown",
   "id": "12f3af2a-1452-4db2-9abb-4f2ccd16e1fb",
   "metadata": {
    "tags": []
   },
   "source": [
    "|Data science tools|\n",
    "|:----------------:|\n",
    "|Rstudio|\n",
    "|Anaconda|\n",
    "|Jupyterlab|"
   ]
  },
  {
   "cell_type": "markdown",
   "id": "15b2dec5-ff18-44fb-933b-d05a9ba36736",
   "metadata": {},
   "source": [
    "### Below are a few examples of evaluating arithmetic expressions in Python."
   ]
  },
  {
   "cell_type": "markdown",
   "id": "7a323884-054e-4d48-a5a9-07231f1519f9",
   "metadata": {
    "tags": []
   },
   "source": [
    "This a simple arithmetic expression to mutiply then add integer"
   ]
  },
  {
   "cell_type": "code",
   "execution_count": 4,
   "id": "635de2b5-82bd-4284-a6e5-1471796999d7",
   "metadata": {
    "tags": []
   },
   "outputs": [
    {
     "data": {
      "text/plain": [
       "17"
      ]
     },
     "execution_count": 4,
     "metadata": {},
     "output_type": "execute_result"
    }
   ],
   "source": [
    "(3*4)+5"
   ]
  },
  {
   "cell_type": "markdown",
   "id": "34ab4118-0810-4c45-8c49-dcff445b6943",
   "metadata": {
    "tags": []
   },
   "source": [
    "This will convert 200 minutes to hours by diving by 60"
   ]
  },
  {
   "cell_type": "code",
   "execution_count": 7,
   "id": "0b611ddc-b39c-425b-b75a-76ed324df182",
   "metadata": {
    "tags": []
   },
   "outputs": [
    {
     "data": {
      "text/plain": [
       "3.3333333333333335"
      ]
     },
     "execution_count": 7,
     "metadata": {},
     "output_type": "execute_result"
    }
   ],
   "source": [
    "200/60"
   ]
  },
  {
   "cell_type": "markdown",
   "id": "bc48e891-d06e-4c2f-a20f-b917b12d7805",
   "metadata": {},
   "source": [
    "**Objectives:**"
   ]
  },
  {
   "cell_type": "markdown",
   "id": "0bf107df-166a-4ee7-89ef-aaa59b836243",
   "metadata": {},
   "source": [
    "- Python\n",
    "- R\n",
    "- Julia"
   ]
  },
  {
   "cell_type": "markdown",
   "id": "e8ec6e0c-3eb0-4ed3-87b7-b47ff9705089",
   "metadata": {},
   "source": [
    "## Author"
   ]
  },
  {
   "cell_type": "markdown",
   "id": "1fb99a48-93bf-4604-a7bc-a514cce29b8a",
   "metadata": {},
   "source": [
    "Neeraj Pradhan"
   ]
  },
  {
   "cell_type": "code",
   "execution_count": null,
   "id": "6981c4dc-f57b-4820-a01a-81071f3ba3c0",
   "metadata": {},
   "outputs": [],
   "source": []
  }
 ],
 "metadata": {
  "kernelspec": {
   "display_name": "Python",
   "language": "python",
   "name": "conda-env-python-py"
  },
  "language_info": {
   "codemirror_mode": {
    "name": "ipython",
    "version": 3
   },
   "file_extension": ".py",
   "mimetype": "text/x-python",
   "name": "python",
   "nbconvert_exporter": "python",
   "pygments_lexer": "ipython3",
   "version": "3.7.12"
  }
 },
 "nbformat": 4,
 "nbformat_minor": 5
}
